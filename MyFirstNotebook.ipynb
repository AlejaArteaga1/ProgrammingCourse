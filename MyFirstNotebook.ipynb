{
 "cells": [
  {
   "cell_type": "markdown",
   "id": "80d8fa5a-4d40-4062-b496-77ab2317b990",
   "metadata": {},
   "source": [
    "# Titulo \n",
    "\n",
    "## Subtitulo\n",
    "\n",
    "Este es un program .... \n",
    "\n",
    "1. a\n",
    "2. b\n",
    "3. c\n",
    "4. d"
   ]
  },
  {
   "cell_type": "code",
   "execution_count": 2,
   "id": "4efcbdfc-b69e-4cfb-bbee-3f59fdbbf147",
   "metadata": {},
   "outputs": [
    {
     "name": "stdout",
     "output_type": "stream",
     "text": [
      "Hello  Eduardo\n"
     ]
    }
   ],
   "source": [
    "def main(name):\n",
    "    print(\"Hello \",name)\n",
    "main(\"Eduardo\")"
   ]
  },
  {
   "cell_type": "code",
   "execution_count": 3,
   "id": "9ec1555f-a0bd-45b2-acf0-796b866c22ef",
   "metadata": {},
   "outputs": [
    {
     "name": "stdout",
     "output_type": "stream",
     "text": [
      "Hello  Fernanda\n"
     ]
    }
   ],
   "source": [
    "main(\"Fernanda\")"
   ]
  },
  {
   "cell_type": "code",
   "execution_count": null,
   "id": "f507ae15-2c49-4ac9-962e-89ee213fca75",
   "metadata": {},
   "outputs": [],
   "source": []
  }
 ],
 "metadata": {
  "kernelspec": {
   "display_name": "Python 3 (ipykernel)",
   "language": "python",
   "name": "python3"
  },
  "language_info": {
   "codemirror_mode": {
    "name": "ipython",
    "version": 3
   },
   "file_extension": ".py",
   "mimetype": "text/x-python",
   "name": "python",
   "nbconvert_exporter": "python",
   "pygments_lexer": "ipython3",
   "version": "3.12.7"
  }
 },
 "nbformat": 4,
 "nbformat_minor": 5
}
