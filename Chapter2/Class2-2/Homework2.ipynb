{
 "cells": [
  {
   "attachments": {},
   "cell_type": "markdown",
   "metadata": {},
   "source": [
    "# Homework 2"
   ]
  },
  {
   "attachments": {},
   "cell_type": "markdown",
   "metadata": {},
   "source": [
    "# Part 1 (Here in ipynb)\n",
    "1. What is a type ?\n",
    "2. How to print a type of variable? / Example\n",
    "3. How to check a type ? use in if statement\n"
   ]
  },
  {
   "cell_type": "markdown",
   "metadata": {},
   "source": []
  }
 ],
 "metadata": {
  "kernelspec": {
   "display_name": "Python 3",
   "language": "python",
   "name": "python3"
  },
  "language_info": {
   "name": "python",
   "version": "3.10.4"
  },
  "orig_nbformat": 4,
  "vscode": {
   "interpreter": {
    "hash": "e913b7897ac30ba1cf0615ffc95e0dcac655edcf15ece0252fa093eec079069f"
   }
  }
 },
 "nbformat": 4,
 "nbformat_minor": 2
}
