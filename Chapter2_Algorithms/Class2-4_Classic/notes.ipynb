{
 "cells": [
  {
   "cell_type": "markdown",
   "metadata": {},
   "source": [
    "## Merge sort\n"
   ]
  },
  {
   "cell_type": "code",
   "execution_count": 3,
   "metadata": {},
   "outputs": [],
   "source": [
    "def merge_sort(arr):\n",
    "\n",
    "    if len(arr) <= 1:\n",
    "        return arr\n",
    "\n",
    "    mid = len(arr) // 2\n",
    "    left_half = arr[:mid]\n",
    "    right_half = arr[mid:]\n",
    "\n",
    "    left_half = merge_sort(left_half)\n",
    "    right_half = merge_sort(right_half)\n",
    "\n",
    "    return merge(left_half, right_half)\n",
    "\n",
    "def merge(left, right):\n",
    "\n",
    "    merged = []\n",
    "    i = j = 0\n",
    "\n",
    "    while i < len(left) and j < len(right):\n",
    "        if left[i] <= right[j]:\n",
    "            merged.append(left[i])\n",
    "            i += 1\n",
    "        else:\n",
    "            merged.append(right[j])\n",
    "            j += 1\n",
    "\n",
    "    # Append remaining elements from left and right arrays\n",
    "    while i < len(left):\n",
    "        merged.append(left[i])\n",
    "        i += 1\n",
    "    while j < len(right):\n",
    "        merged.append(right[j])\n",
    "        j += 1\n",
    "\n",
    "    return merged "
   ]
  },
  {
   "cell_type": "code",
   "execution_count": 4,
   "metadata": {},
   "outputs": [
    {
     "name": "stdout",
     "output_type": "stream",
     "text": [
      "[3, 9, 10, 27, 38, 43, 82]\n"
     ]
    }
   ],
   "source": [
    "arr = [38, 27, 43, 3, 9, 82, 10]\n",
    "sorted_arr = merge_sort(arr)\n",
    "print(sorted_arr) "
   ]
  },
  {
   "cell_type": "markdown",
   "metadata": {},
   "source": [
    "# Biggest unique substring \n",
    "(unique as uniques consecutive characters)"
   ]
  },
  {
   "cell_type": "code",
   "execution_count": null,
   "metadata": {},
   "outputs": [],
   "source": [
    "def select_the_greater(r1, r2):\n",
    "    return r1 if r1[1] > r2[1]  else r2\n",
    "\n",
    "def max_unique_sub_str(word, acumm, idx):\n",
    "    print(\"Cycle..\", acumm)\n",
    "    if idx< len(word) and word[idx] not in acumm[0]: # this run in O(acumm) to check if is in\n",
    "        take_it = max_unique_sub_str(word,[acumm[0]+word[idx], acumm[1]+1],idx+1)\n",
    "        if (idx +1)<len(word):\n",
    "            not_take_it_start_again = max_unique_sub_str(word,[word[idx+1], 1],idx+2)\n",
    "            return select_the_greater(take_it, not_take_it_start_again)\n",
    "        else:\n",
    "            return take_it\n",
    "    else:\n",
    "        return acumm\n",
    "    \n",
    "def max_unique_sub_str_aux(word):\n",
    "    if len(word) > 0:\n",
    "        return max_unique_sub_str(word,[word[0],1],1)\n",
    "    else:\n",
    "        return [word,0]"
   ]
  },
  {
   "cell_type": "code",
   "execution_count": 78,
   "metadata": {},
   "outputs": [
    {
     "name": "stdout",
     "output_type": "stream",
     "text": [
      "Cycle.. ['A', 1]\n"
     ]
    },
    {
     "data": {
      "text/plain": [
       "['A', 1]"
      ]
     },
     "execution_count": 78,
     "metadata": {},
     "output_type": "execute_result"
    }
   ],
   "source": [
    "max_unique_sub_str_aux(\"A\")"
   ]
  },
  {
   "cell_type": "code",
   "execution_count": 80,
   "metadata": {},
   "outputs": [
    {
     "name": "stdout",
     "output_type": "stream",
     "text": [
      "Cycle.. ['A', 1]\n",
      "Cycle.. ['AB', 2]\n",
      "Cycle.. ['ABC', 3]\n",
      "Cycle.. ['ABCD', 4]\n",
      "Cycle.. ['D', 1]\n",
      "Cycle.. ['C', 1]\n",
      "Cycle.. ['CD', 2]\n"
     ]
    },
    {
     "data": {
      "text/plain": [
       "['ABCD', 4]"
      ]
     },
     "execution_count": 80,
     "metadata": {},
     "output_type": "execute_result"
    }
   ],
   "source": [
    "max_unique_sub_str_aux(\"ABCD\")"
   ]
  },
  {
   "cell_type": "code",
   "execution_count": 81,
   "metadata": {},
   "outputs": [
    {
     "name": "stdout",
     "output_type": "stream",
     "text": [
      "Cycle.. ['A', 1]\n",
      "Cycle.. ['AB', 2]\n",
      "Cycle.. ['B', 1]\n",
      "Cycle.. ['BC', 2]\n"
     ]
    },
    {
     "data": {
      "text/plain": [
       "['BC', 2]"
      ]
     },
     "execution_count": 81,
     "metadata": {},
     "output_type": "execute_result"
    }
   ],
   "source": [
    "max_unique_sub_str_aux(\"ABBC\")"
   ]
  },
  {
   "cell_type": "code",
   "execution_count": null,
   "metadata": {},
   "outputs": [
    {
     "name": "stdout",
     "output_type": "stream",
     "text": [
      "Cycle.. ['A', 1]\n",
      "Cycle.. ['AB', 2]\n",
      "Cycle.. ['ABC', 3]\n",
      "Cycle.. ['ABCD', 4]\n",
      "Cycle.. ['ABCDE', 5]\n",
      "Cycle.. ['ABCDEF', 6]\n",
      "Cycle.. ['F', 1]\n",
      "Cycle.. ['FG', 2]\n",
      "Cycle.. ['FGH', 3]\n",
      "Cycle.. ['FGHI', 4]\n",
      "Cycle.. ['FGHIJ', 5]\n",
      "Cycle.. ['FGHIJK', 6]\n",
      "Cycle.. ['K', 1]\n",
      "Cycle.. ['K', 1]\n",
      "Cycle.. ['J', 1]\n",
      "Cycle.. ['JK', 2]\n",
      "Cycle.. ['K', 1]\n",
      "Cycle.. ['I', 1]\n",
      "Cycle.. ['IJ', 2]\n",
      "Cycle.. ['IJK', 3]\n",
      "Cycle.. ['K', 1]\n",
      "Cycle.. ['K', 1]\n",
      "Cycle.. ['H', 1]\n",
      "Cycle.. ['HI', 2]\n",
      "Cycle.. ['HIJ', 3]\n",
      "Cycle.. ['HIJK', 4]\n",
      "Cycle.. ['K', 1]\n",
      "Cycle.. ['K', 1]\n",
      "Cycle.. ['J', 1]\n",
      "Cycle.. ['JK', 2]\n",
      "Cycle.. ['K', 1]\n",
      "Cycle.. ['F', 1]\n",
      "Cycle.. ['E', 1]\n",
      "Cycle.. ['EF', 2]\n",
      "Cycle.. ['F', 1]\n",
      "Cycle.. ['FG', 2]\n",
      "Cycle.. ['FGH', 3]\n",
      "Cycle.. ['FGHI', 4]\n",
      "Cycle.. ['FGHIJ', 5]\n",
      "Cycle.. ['FGHIJK', 6]\n",
      "Cycle.. ['K', 1]\n",
      "Cycle.. ['K', 1]\n",
      "Cycle.. ['J', 1]\n",
      "Cycle.. ['JK', 2]\n",
      "Cycle.. ['K', 1]\n",
      "Cycle.. ['I', 1]\n",
      "Cycle.. ['IJ', 2]\n",
      "Cycle.. ['IJK', 3]\n",
      "Cycle.. ['K', 1]\n",
      "Cycle.. ['K', 1]\n",
      "Cycle.. ['H', 1]\n",
      "Cycle.. ['HI', 2]\n",
      "Cycle.. ['HIJ', 3]\n",
      "Cycle.. ['HIJK', 4]\n",
      "Cycle.. ['K', 1]\n",
      "Cycle.. ['K', 1]\n",
      "Cycle.. ['J', 1]\n",
      "Cycle.. ['JK', 2]\n",
      "Cycle.. ['K', 1]\n",
      "Cycle.. ['D', 1]\n",
      "Cycle.. ['DE', 2]\n",
      "Cycle.. ['DEF', 3]\n",
      "Cycle.. ['F', 1]\n",
      "Cycle.. ['FG', 2]\n",
      "Cycle.. ['FGH', 3]\n",
      "Cycle.. ['FGHI', 4]\n",
      "Cycle.. ['FGHIJ', 5]\n",
      "Cycle.. ['FGHIJK', 6]\n",
      "Cycle.. ['K', 1]\n",
      "Cycle.. ['K', 1]\n",
      "Cycle.. ['J', 1]\n",
      "Cycle.. ['JK', 2]\n",
      "Cycle.. ['K', 1]\n",
      "Cycle.. ['I', 1]\n",
      "Cycle.. ['IJ', 2]\n",
      "Cycle.. ['IJK', 3]\n",
      "Cycle.. ['K', 1]\n",
      "Cycle.. ['K', 1]\n",
      "Cycle.. ['H', 1]\n",
      "Cycle.. ['HI', 2]\n",
      "Cycle.. ['HIJ', 3]\n",
      "Cycle.. ['HIJK', 4]\n",
      "Cycle.. ['K', 1]\n",
      "Cycle.. ['K', 1]\n",
      "Cycle.. ['J', 1]\n",
      "Cycle.. ['JK', 2]\n",
      "Cycle.. ['K', 1]\n",
      "Cycle.. ['F', 1]\n",
      "Cycle.. ['C', 1]\n",
      "Cycle.. ['CD', 2]\n",
      "Cycle.. ['CDE', 3]\n",
      "Cycle.. ['CDEF', 4]\n",
      "Cycle.. ['F', 1]\n",
      "Cycle.. ['FG', 2]\n",
      "Cycle.. ['FGH', 3]\n",
      "Cycle.. ['FGHI', 4]\n",
      "Cycle.. ['FGHIJ', 5]\n",
      "Cycle.. ['FGHIJK', 6]\n",
      "Cycle.. ['K', 1]\n",
      "Cycle.. ['K', 1]\n",
      "Cycle.. ['J', 1]\n",
      "Cycle.. ['JK', 2]\n",
      "Cycle.. ['K', 1]\n",
      "Cycle.. ['I', 1]\n",
      "Cycle.. ['IJ', 2]\n",
      "Cycle.. ['IJK', 3]\n",
      "Cycle.. ['K', 1]\n",
      "Cycle.. ['K', 1]\n",
      "Cycle.. ['H', 1]\n",
      "Cycle.. ['HI', 2]\n",
      "Cycle.. ['HIJ', 3]\n",
      "Cycle.. ['HIJK', 4]\n",
      "Cycle.. ['K', 1]\n",
      "Cycle.. ['K', 1]\n",
      "Cycle.. ['J', 1]\n",
      "Cycle.. ['JK', 2]\n",
      "Cycle.. ['K', 1]\n",
      "Cycle.. ['F', 1]\n",
      "Cycle.. ['E', 1]\n",
      "Cycle.. ['EF', 2]\n",
      "Cycle.. ['F', 1]\n",
      "Cycle.. ['FG', 2]\n",
      "Cycle.. ['FGH', 3]\n",
      "Cycle.. ['FGHI', 4]\n",
      "Cycle.. ['FGHIJ', 5]\n",
      "Cycle.. ['FGHIJK', 6]\n",
      "Cycle.. ['K', 1]\n",
      "Cycle.. ['K', 1]\n",
      "Cycle.. ['J', 1]\n",
      "Cycle.. ['JK', 2]\n",
      "Cycle.. ['K', 1]\n",
      "Cycle.. ['I', 1]\n",
      "Cycle.. ['IJ', 2]\n",
      "Cycle.. ['IJK', 3]\n",
      "Cycle.. ['K', 1]\n",
      "Cycle.. ['K', 1]\n",
      "Cycle.. ['H', 1]\n",
      "Cycle.. ['HI', 2]\n",
      "Cycle.. ['HIJ', 3]\n",
      "Cycle.. ['HIJK', 4]\n",
      "Cycle.. ['K', 1]\n",
      "Cycle.. ['K', 1]\n",
      "Cycle.. ['J', 1]\n",
      "Cycle.. ['JK', 2]\n",
      "Cycle.. ['K', 1]\n"
     ]
    },
    {
     "data": {
      "text/plain": [
       "['FGHIJK', 6]"
      ]
     },
     "execution_count": 82,
     "metadata": {},
     "output_type": "execute_result"
    }
   ],
   "source": [
    "max_unique_sub_str_aux(\"ABCDEFFGHIJKK\")\n",
    "# 126 close to n^2"
   ]
  },
  {
   "cell_type": "code",
   "execution_count": null,
   "metadata": {},
   "outputs": [
    {
     "name": "stdout",
     "output_type": "stream",
     "text": [
      "Cycle.. ['A', 1]\n",
      "Cycle.. ['AB', 2]\n",
      "Cycle.. ['ABC', 3]\n",
      "Cycle.. ['ABCD', 4]\n",
      "Cycle.. ['ABCDE', 5]\n",
      "Cycle.. ['ABCDEF', 6]\n",
      "Cycle.. ['ABCDEFG', 7]\n",
      "Cycle.. ['G', 1]\n",
      "Cycle.. ['GH', 2]\n",
      "Cycle.. ['GHI', 3]\n",
      "Cycle.. ['GHIJ', 4]\n",
      "Cycle.. ['GHIJK', 5]\n",
      "Cycle.. ['K', 1]\n",
      "Cycle.. ['K', 1]\n",
      "Cycle.. ['J', 1]\n",
      "Cycle.. ['JK', 2]\n",
      "Cycle.. ['K', 1]\n",
      "Cycle.. ['I', 1]\n",
      "Cycle.. ['IJ', 2]\n",
      "Cycle.. ['IJK', 3]\n",
      "Cycle.. ['K', 1]\n",
      "Cycle.. ['K', 1]\n",
      "Cycle.. ['G', 1]\n",
      "Cycle.. ['F', 1]\n",
      "Cycle.. ['FG', 2]\n",
      "Cycle.. ['G', 1]\n",
      "Cycle.. ['GH', 2]\n",
      "Cycle.. ['GHI', 3]\n",
      "Cycle.. ['GHIJ', 4]\n",
      "Cycle.. ['GHIJK', 5]\n",
      "Cycle.. ['K', 1]\n",
      "Cycle.. ['K', 1]\n",
      "Cycle.. ['J', 1]\n",
      "Cycle.. ['JK', 2]\n",
      "Cycle.. ['K', 1]\n",
      "Cycle.. ['I', 1]\n",
      "Cycle.. ['IJ', 2]\n",
      "Cycle.. ['IJK', 3]\n",
      "Cycle.. ['K', 1]\n",
      "Cycle.. ['K', 1]\n",
      "Cycle.. ['E', 1]\n",
      "Cycle.. ['EF', 2]\n",
      "Cycle.. ['EFG', 3]\n",
      "Cycle.. ['G', 1]\n",
      "Cycle.. ['GH', 2]\n",
      "Cycle.. ['GHI', 3]\n",
      "Cycle.. ['GHIJ', 4]\n",
      "Cycle.. ['GHIJK', 5]\n",
      "Cycle.. ['K', 1]\n",
      "Cycle.. ['K', 1]\n",
      "Cycle.. ['J', 1]\n",
      "Cycle.. ['JK', 2]\n",
      "Cycle.. ['K', 1]\n",
      "Cycle.. ['I', 1]\n",
      "Cycle.. ['IJ', 2]\n",
      "Cycle.. ['IJK', 3]\n",
      "Cycle.. ['K', 1]\n",
      "Cycle.. ['K', 1]\n",
      "Cycle.. ['G', 1]\n",
      "Cycle.. ['D', 1]\n",
      "Cycle.. ['DE', 2]\n",
      "Cycle.. ['DEF', 3]\n",
      "Cycle.. ['DEFG', 4]\n",
      "Cycle.. ['G', 1]\n",
      "Cycle.. ['GH', 2]\n",
      "Cycle.. ['GHI', 3]\n",
      "Cycle.. ['GHIJ', 4]\n",
      "Cycle.. ['GHIJK', 5]\n",
      "Cycle.. ['K', 1]\n",
      "Cycle.. ['K', 1]\n",
      "Cycle.. ['J', 1]\n",
      "Cycle.. ['JK', 2]\n",
      "Cycle.. ['K', 1]\n",
      "Cycle.. ['I', 1]\n",
      "Cycle.. ['IJ', 2]\n",
      "Cycle.. ['IJK', 3]\n",
      "Cycle.. ['K', 1]\n",
      "Cycle.. ['K', 1]\n",
      "Cycle.. ['G', 1]\n",
      "Cycle.. ['F', 1]\n",
      "Cycle.. ['FG', 2]\n",
      "Cycle.. ['G', 1]\n",
      "Cycle.. ['GH', 2]\n",
      "Cycle.. ['GHI', 3]\n",
      "Cycle.. ['GHIJ', 4]\n",
      "Cycle.. ['GHIJK', 5]\n",
      "Cycle.. ['K', 1]\n",
      "Cycle.. ['K', 1]\n",
      "Cycle.. ['J', 1]\n",
      "Cycle.. ['JK', 2]\n",
      "Cycle.. ['K', 1]\n",
      "Cycle.. ['I', 1]\n",
      "Cycle.. ['IJ', 2]\n",
      "Cycle.. ['IJK', 3]\n",
      "Cycle.. ['K', 1]\n",
      "Cycle.. ['K', 1]\n",
      "Cycle.. ['C', 1]\n",
      "Cycle.. ['CD', 2]\n",
      "Cycle.. ['CDE', 3]\n",
      "Cycle.. ['CDEF', 4]\n",
      "Cycle.. ['CDEFG', 5]\n",
      "Cycle.. ['G', 1]\n",
      "Cycle.. ['GH', 2]\n",
      "Cycle.. ['GHI', 3]\n",
      "Cycle.. ['GHIJ', 4]\n",
      "Cycle.. ['GHIJK', 5]\n",
      "Cycle.. ['K', 1]\n",
      "Cycle.. ['K', 1]\n",
      "Cycle.. ['J', 1]\n",
      "Cycle.. ['JK', 2]\n",
      "Cycle.. ['K', 1]\n",
      "Cycle.. ['I', 1]\n",
      "Cycle.. ['IJ', 2]\n",
      "Cycle.. ['IJK', 3]\n",
      "Cycle.. ['K', 1]\n",
      "Cycle.. ['K', 1]\n",
      "Cycle.. ['G', 1]\n",
      "Cycle.. ['F', 1]\n",
      "Cycle.. ['FG', 2]\n",
      "Cycle.. ['G', 1]\n",
      "Cycle.. ['GH', 2]\n",
      "Cycle.. ['GHI', 3]\n",
      "Cycle.. ['GHIJ', 4]\n",
      "Cycle.. ['GHIJK', 5]\n",
      "Cycle.. ['K', 1]\n",
      "Cycle.. ['K', 1]\n",
      "Cycle.. ['J', 1]\n",
      "Cycle.. ['JK', 2]\n",
      "Cycle.. ['K', 1]\n",
      "Cycle.. ['I', 1]\n",
      "Cycle.. ['IJ', 2]\n",
      "Cycle.. ['IJK', 3]\n",
      "Cycle.. ['K', 1]\n",
      "Cycle.. ['K', 1]\n",
      "Cycle.. ['E', 1]\n",
      "Cycle.. ['EF', 2]\n",
      "Cycle.. ['EFG', 3]\n",
      "Cycle.. ['G', 1]\n",
      "Cycle.. ['GH', 2]\n",
      "Cycle.. ['GHI', 3]\n",
      "Cycle.. ['GHIJ', 4]\n",
      "Cycle.. ['GHIJK', 5]\n",
      "Cycle.. ['K', 1]\n",
      "Cycle.. ['K', 1]\n",
      "Cycle.. ['J', 1]\n",
      "Cycle.. ['JK', 2]\n",
      "Cycle.. ['K', 1]\n",
      "Cycle.. ['I', 1]\n",
      "Cycle.. ['IJ', 2]\n",
      "Cycle.. ['IJK', 3]\n",
      "Cycle.. ['K', 1]\n",
      "Cycle.. ['K', 1]\n",
      "Cycle.. ['G', 1]\n"
     ]
    },
    {
     "data": {
      "text/plain": [
       "['ABCDEFG', 7]"
      ]
     },
     "execution_count": 83,
     "metadata": {},
     "output_type": "execute_result"
    }
   ],
   "source": [
    "max_unique_sub_str_aux(\"ABCDEFGGHIJKK\")\n",
    "\n",
    "# 105 outputs close to n^2"
   ]
  },
  {
   "cell_type": "code",
   "execution_count": null,
   "metadata": {},
   "outputs": [],
   "source": []
  }
 ],
 "metadata": {
  "kernelspec": {
   "display_name": "Python 3",
   "language": "python",
   "name": "python3"
  },
  "language_info": {
   "codemirror_mode": {
    "name": "ipython",
    "version": 3
   },
   "file_extension": ".py",
   "mimetype": "text/x-python",
   "name": "python",
   "nbconvert_exporter": "python",
   "pygments_lexer": "ipython3",
   "version": "3.9.6"
  }
 },
 "nbformat": 4,
 "nbformat_minor": 2
}
