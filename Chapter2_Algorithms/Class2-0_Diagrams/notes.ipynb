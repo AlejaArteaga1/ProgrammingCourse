{
 "cells": [
  {
   "cell_type": "markdown",
   "metadata": {},
   "source": [
    "### Exercise CHECK IF LIST IS ORDERED"
   ]
  },
  {
   "cell_type": "code",
   "execution_count": 12,
   "metadata": {},
   "outputs": [
    {
     "name": "stdout",
     "output_type": "stream",
     "text": [
      "i 0\n",
      "i 1\n",
      "i 2\n",
      "i 3\n",
      "True\n"
     ]
    }
   ],
   "source": [
    "def is_ordered(list):\n",
    "    ans = True\n",
    "    for i in range(0,len(list) - 1):\n",
    "        print(\"i\", i)\n",
    "        n1 = list[i]\n",
    "        n2 = list[i+1]\n",
    "        if n2 < n1:\n",
    "          ans = False\n",
    "    return ans\n",
    "\n",
    "print(is_ordered([2,3,4,5,6]))"
   ]
  },
  {
   "cell_type": "markdown",
   "metadata": {},
   "source": [
    "## Check if two list are equal"
   ]
  },
  {
   "cell_type": "code",
   "execution_count": 18,
   "metadata": {},
   "outputs": [
    {
     "name": "stdout",
     "output_type": "stream",
     "text": [
      "True\n",
      "False\n"
     ]
    }
   ],
   "source": [
    "# Case the list have the same length \n",
    "def are_equal(list1, list2):\n",
    "    ans = True\n",
    "    for i in range(0, len(list1)):\n",
    "        n1 = list1[i]\n",
    "        n2 = list2[i]\n",
    "        if n1 != n2:\n",
    "            ans = False\n",
    "    return ans \n",
    "                  \n",
    "\n",
    "print( are_equal([2,3], [2,3]))\n",
    "print( are_equal([3,3], [2,3]))"
   ]
  },
  {
   "cell_type": "markdown",
   "metadata": {},
   "source": [
    "### Check if element exist in List"
   ]
  },
  {
   "cell_type": "code",
   "execution_count": 20,
   "metadata": {},
   "outputs": [
    {
     "data": {
      "text/plain": [
       "True"
      ]
     },
     "execution_count": 20,
     "metadata": {},
     "output_type": "execute_result"
    }
   ],
   "source": [
    "def is_in(e , list):\n",
    "    ans = False\n",
    "    for i in range(0, len(list)):\n",
    "        n1 = list[i]\n",
    "        if n1 == e:\n",
    "            ans = True \n",
    "    return ans\n",
    "\n",
    "is_in(2, [1,3])\n",
    "is_in(2, [1,2,3])"
   ]
  },
  {
   "cell_type": "markdown",
   "metadata": {},
   "source": [
    "## Check if two list are equal and could have different length\n"
   ]
  },
  {
   "cell_type": "code",
   "execution_count": 21,
   "metadata": {},
   "outputs": [
    {
     "name": "stdout",
     "output_type": "stream",
     "text": [
      "True\n",
      "False\n",
      "False\n"
     ]
    }
   ],
   "source": [
    "def are_equal(list1, list2):\n",
    "    ans = True\n",
    "    if len(list1) == len(list2):\n",
    "        for i in range(0, len(list1)):\n",
    "            n1 = list1[i]\n",
    "            n2 = list2[i]\n",
    "            if n1 != n2:\n",
    "                ans = False\n",
    "    else:\n",
    "        ans = False\n",
    "    return ans \n",
    "                  \n",
    "\n",
    "print( are_equal([2,3], [2,3]))\n",
    "print( are_equal([3,3], [2,3]))\n",
    "print( are_equal([3,3], [3,3,1]))"
   ]
  },
  {
   "cell_type": "code",
   "execution_count": null,
   "metadata": {},
   "outputs": [
    {
     "name": "stdout",
     "output_type": "stream",
     "text": [
      "True\n",
      "False\n",
      "False\n"
     ]
    }
   ],
   "source": [
    "def are_equal(list1, list2):\n",
    "    ans = len(list1) == len(list2)\n",
    "    i = 0\n",
    "    while ans and i < len(list1):\n",
    "        ans = list1[i] == list2[i]\n",
    "        i= i + 1\n",
    "    return ans                   \n",
    "\n",
    "print( are_equal([2,3], [2,3]))\n",
    "print( are_equal([3,3], [2,3]))\n",
    "print( are_equal([3,3], [3,3,1]))"
   ]
  },
  {
   "cell_type": "code",
   "execution_count": null,
   "metadata": {},
   "outputs": [],
   "source": []
  }
 ],
 "metadata": {
  "kernelspec": {
   "display_name": "Python 3",
   "language": "python",
   "name": "python3"
  },
  "language_info": {
   "codemirror_mode": {
    "name": "ipython",
    "version": 3
   },
   "file_extension": ".py",
   "mimetype": "text/x-python",
   "name": "python",
   "nbconvert_exporter": "python",
   "pygments_lexer": "ipython3",
   "version": "3.12.7"
  }
 },
 "nbformat": 4,
 "nbformat_minor": 2
}
