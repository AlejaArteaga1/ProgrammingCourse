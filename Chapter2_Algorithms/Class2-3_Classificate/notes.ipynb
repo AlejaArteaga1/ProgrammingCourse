{
 "cells": [
  {
   "cell_type": "markdown",
   "metadata": {},
   "source": [
    "# Clasificate the problems"
   ]
  },
  {
   "cell_type": "markdown",
   "metadata": {},
   "source": [
    "# Linear\n",
    "\n",
    "Find a number"
   ]
  },
  {
   "cell_type": "code",
   "execution_count": 15,
   "metadata": {},
   "outputs": [],
   "source": [
    "# Best impl\n",
    "def find_number(e, l):\n",
    "    i = 0\n",
    "    ans = -1\n",
    "    while ans== -1 and i < len(l):\n",
    "        print(\"# Cicles :\", i+1)\n",
    "        if l[i] == e:\n",
    "            ans= i\n",
    "        i= i+1\n",
    "    return ans"
   ]
  },
  {
   "cell_type": "code",
   "execution_count": 16,
   "metadata": {},
   "outputs": [
    {
     "name": "stdout",
     "output_type": "stream",
     "text": [
      "# Cicles : 1\n"
     ]
    },
    {
     "data": {
      "text/plain": [
       "0"
      ]
     },
     "execution_count": 16,
     "metadata": {},
     "output_type": "execute_result"
    }
   ],
   "source": [
    "# Best case\n",
    "find_number(1,[1,2,3,4,5])"
   ]
  },
  {
   "cell_type": "code",
   "execution_count": 17,
   "metadata": {},
   "outputs": [
    {
     "name": "stdout",
     "output_type": "stream",
     "text": [
      "# Cicles : 1\n",
      "# Cicles : 2\n",
      "# Cicles : 3\n",
      "# Cicles : 4\n",
      "# Cicles : 5\n"
     ]
    },
    {
     "data": {
      "text/plain": [
       "-1"
      ]
     },
     "execution_count": 17,
     "metadata": {},
     "output_type": "execute_result"
    }
   ],
   "source": [
    "# worse case\n",
    "find_number(0,[1,2,3,4,5])"
   ]
  },
  {
   "cell_type": "markdown",
   "metadata": {},
   "source": [
    "## Sum impl of list\n",
    "No best case : We must check all elements ... \n",
    "While impl is not more efective "
   ]
  },
  {
   "cell_type": "code",
   "execution_count": 20,
   "metadata": {},
   "outputs": [],
   "source": [
    "def impl_sum(l):\n",
    "    ans = 0 \n",
    "    cycles = 0\n",
    "    for e in l: \n",
    "        ans = ans + e\n",
    "        cycles = cycles + 1\n",
    "        print(f\"Cycles : {cycles}\")\n",
    "        \n",
    "    return ans"
   ]
  },
  {
   "cell_type": "code",
   "execution_count": 21,
   "metadata": {},
   "outputs": [
    {
     "name": "stdout",
     "output_type": "stream",
     "text": [
      "Cycles : 1\n",
      "Cycles : 2\n"
     ]
    },
    {
     "data": {
      "text/plain": [
       "3"
      ]
     },
     "execution_count": 21,
     "metadata": {},
     "output_type": "execute_result"
    }
   ],
   "source": [
    "impl_sum([1,2])"
   ]
  },
  {
   "cell_type": "markdown",
   "metadata": {},
   "source": [
    "## No linear\n",
    "\n",
    "Check if exist multipliers on rest of the list\n",
    "(!= check if list has primes)\n",
    "eg : \n",
    "\n",
    "[ 7, 8 , 10]\n",
    "\n",
    "8 and 10 are not primes\n",
    "\n",
    "but 7 is not multiplier of 8 or 10 and 8 is not of 10 also\n",
    "\n",
    "\n"
   ]
  },
  {
   "cell_type": "code",
   "execution_count": 24,
   "metadata": {},
   "outputs": [],
   "source": [
    "# best impl , not check a , b and b , a  just check one time permutation\n",
    "def check_multipliers(list):\n",
    "    ans = False\n",
    "    i = 0\n",
    "    while not ans and i < len(list):\n",
    "        e1 = list[i]\n",
    "        j = i + 1\n",
    "        while not ans and  j < len(list):\n",
    "            e2 = list[j]\n",
    "            if e2%e1== 0:\n",
    "                ans = True\n",
    "            j = j + 1\n",
    "            print(\"Another cycle...\")\n",
    "        i = i + 1\n",
    "    return ans    "
   ]
  },
  {
   "cell_type": "code",
   "execution_count": 25,
   "metadata": {},
   "outputs": [
    {
     "name": "stdout",
     "output_type": "stream",
     "text": [
      "Another cycle...\n"
     ]
    },
    {
     "data": {
      "text/plain": [
       "True"
      ]
     },
     "execution_count": 25,
     "metadata": {},
     "output_type": "execute_result"
    }
   ],
   "source": [
    "# Best case find multiplier in first position\n",
    "check_multipliers([2,4,4,5,6,8,1,8,22])"
   ]
  },
  {
   "cell_type": "code",
   "execution_count": null,
   "metadata": {},
   "outputs": [
    {
     "name": "stdout",
     "output_type": "stream",
     "text": [
      "Another cycle...\n",
      "Another cycle...\n",
      "Another cycle...\n",
      "Another cycle...\n",
      "Another cycle...\n",
      "Another cycle...\n",
      "Another cycle...\n"
     ]
    },
    {
     "data": {
      "text/plain": [
       "True"
      ]
     },
     "execution_count": 26,
     "metadata": {},
     "output_type": "execute_result"
    }
   ],
   "source": [
    "# other case find multiplier in some position\n",
    "check_multipliers([3,5,8,11,20])"
   ]
  },
  {
   "cell_type": "code",
   "execution_count": null,
   "metadata": {},
   "outputs": [
    {
     "name": "stdout",
     "output_type": "stream",
     "text": [
      "Another cycle...\n",
      "Another cycle...\n",
      "Another cycle...\n",
      "Another cycle...\n",
      "Another cycle...\n",
      "Another cycle...\n",
      "Another cycle...\n",
      "Another cycle...\n",
      "Another cycle...\n",
      "Another cycle...\n",
      "Another cycle...\n",
      "Another cycle...\n",
      "Another cycle...\n",
      "Another cycle...\n",
      "Another cycle...\n"
     ]
    },
    {
     "data": {
      "text/plain": [
       "False"
      ]
     },
     "execution_count": 31,
     "metadata": {},
     "output_type": "execute_result"
    }
   ],
   "source": [
    "# worse case dont find multiplier position\n",
    "check_multipliers([3,5,8,11,26,116])\n",
    "# 15 times optimized when input was len = 6"
   ]
  },
  {
   "cell_type": "markdown",
   "metadata": {},
   "source": [
    "## No linear\n",
    "\n",
    "Binary search\n",
    "\n",
    "Given a ordered list , find number"
   ]
  },
  {
   "cell_type": "code",
   "execution_count": 55,
   "metadata": {},
   "outputs": [],
   "source": [
    "def find_recur(ordered_list, e, idx_l, idx_r):\n",
    "    print(\"A cycle... \")\n",
    "    check = (idx_l + idx_r) // 2\n",
    "    if not ordered_list:\n",
    "        return -1\n",
    "    elif ordered_list[check] == e: \n",
    "        return check\n",
    "    elif ordered_list[check] > e:\n",
    "        return find_recur(ordered_list, e, idx_l, check)\n",
    "    else:\n",
    "        return find_recur(ordered_list, e, check, idx_r)\n",
    "    \n",
    "def find_aux(l,e):\n",
    "    return find_recur(l,e,0,len(l))\n"
   ]
  },
  {
   "cell_type": "code",
   "execution_count": null,
   "metadata": {},
   "outputs": [
    {
     "name": "stdout",
     "output_type": "stream",
     "text": [
      "A cycle... \n"
     ]
    },
    {
     "data": {
      "text/plain": [
       "1"
      ]
     },
     "execution_count": 57,
     "metadata": {},
     "output_type": "execute_result"
    }
   ],
   "source": [
    "# Best case, in middle\n",
    "find_aux([1,2,3],2)"
   ]
  },
  {
   "cell_type": "code",
   "execution_count": 60,
   "metadata": {},
   "outputs": [
    {
     "name": "stdout",
     "output_type": "stream",
     "text": [
      "A cycle... \n",
      "A cycle... \n"
     ]
    },
    {
     "data": {
      "text/plain": [
       "1"
      ]
     },
     "execution_count": 60,
     "metadata": {},
     "output_type": "execute_result"
    }
   ],
   "source": [
    "find_aux([1,2,3,4],2)"
   ]
  },
  {
   "cell_type": "code",
   "execution_count": null,
   "metadata": {},
   "outputs": [
    {
     "name": "stdout",
     "output_type": "stream",
     "text": [
      "A cycle... \n",
      "A cycle... \n",
      "A cycle... \n"
     ]
    },
    {
     "data": {
      "text/plain": [
       "7"
      ]
     },
     "execution_count": 58,
     "metadata": {},
     "output_type": "execute_result"
    }
   ],
   "source": [
    "# Worse not a middle\n",
    "find_aux([1,2,3,4,5,6,7,8,9],8)\n",
    "# log base 2 of 9 is 3.17 ... so is 3 "
   ]
  },
  {
   "cell_type": "markdown",
   "metadata": {},
   "source": []
  }
 ],
 "metadata": {
  "kernelspec": {
   "display_name": "Python 3",
   "language": "python",
   "name": "python3"
  },
  "language_info": {
   "codemirror_mode": {
    "name": "ipython",
    "version": 3
   },
   "file_extension": ".py",
   "mimetype": "text/x-python",
   "name": "python",
   "nbconvert_exporter": "python",
   "pygments_lexer": "ipython3",
   "version": "3.9.6"
  }
 },
 "nbformat": 4,
 "nbformat_minor": 2
}
