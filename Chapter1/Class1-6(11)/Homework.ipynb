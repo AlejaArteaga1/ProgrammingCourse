{
 "cells": [
  {
   "cell_type": "code",
   "execution_count": null,
   "metadata": {},
   "outputs": [],
   "source": [
    "# Hints: Reverse strings, and sum left to right \n",
    "# [\"110\", \"010\", \"110\"] \n",
    "# [\"010\" , \"011\" , \"011\"]\n",
    "# \"0111\"\n",
    "# \"1110\"\n",
    "# And final reverse again the result number\n",
    "# Dont use fixed size ... \n",
    "# Only allow use range( ) len( ) build-in functions\n",
    "def sum_numbers(list_strings):\n",
    "    pass "
   ]
  }
 ],
 "metadata": {
  "kernelspec": {
   "display_name": "Python 3",
   "language": "python",
   "name": "python3"
  },
  "language_info": {
   "name": "python",
   "version": "3.10.4 (tags/v3.10.4:9d38120, Mar 23 2022, 23:13:41) [MSC v.1929 64 bit (AMD64)]"
  },
  "orig_nbformat": 4,
  "vscode": {
   "interpreter": {
    "hash": "e913b7897ac30ba1cf0615ffc95e0dcac655edcf15ece0252fa093eec079069f"
   }
  }
 },
 "nbformat": 4,
 "nbformat_minor": 2
}
