{
 "cells": [
  {
   "cell_type": "code",
   "execution_count": 4,
   "metadata": {},
   "outputs": [
    {
     "data": {
      "text/plain": [
       "[False, False, False, False, True, False]"
      ]
     },
     "execution_count": 4,
     "metadata": {},
     "output_type": "execute_result"
    }
   ],
   "source": [
    "def binary_to_boolean(binary_list, fixed_size):\n",
    "    extra_elemnts= fixed_size - len(binary_list)\n",
    "    boolean_list=[False] * extra_elemnts\n",
    "    for e in binary_list:\n",
    "        if e == \"1\":\n",
    "            boolean_list.append(True)\n",
    "        else:\n",
    "            boolean_list.append(False)\n",
    "    return boolean_list\n",
    "binary_to_boolean([\"1\",\"2\"],6)"
   ]
  },
  {
   "cell_type": "code",
   "execution_count": 9,
   "metadata": {},
   "outputs": [
    {
     "data": {
      "text/plain": [
       "False"
      ]
     },
     "execution_count": 9,
     "metadata": {},
     "output_type": "execute_result"
    }
   ],
   "source": [
    "# Check list if is ordered \n",
    "\n",
    "def is_ordered(list_of_numbers):\n",
    "    is_ordered = True\n",
    "    idx = 0\n",
    "    while is_ordered and idx < len(list_of_numbers) -1:\n",
    "        actual = list_of_numbers[idx]\n",
    "        siguiente = list_of_numbers[idx+1]\n",
    "        is_ordered = siguiente >= actual           \n",
    "        idx+=1\n",
    "    return is_ordered\n",
    "is_ordered([1,2,5,4])"
   ]
  },
  {
   "cell_type": "code",
   "execution_count": 14,
   "metadata": {},
   "outputs": [
    {
     "data": {
      "text/plain": [
       "False"
      ]
     },
     "execution_count": 14,
     "metadata": {},
     "output_type": "execute_result"
    }
   ],
   "source": [
    "def is_sequence(list_of_numbers):\n",
    "    is_sequence = True\n",
    "    idx = 0\n",
    "    while is_sequence and idx < len(list_of_numbers) -1:\n",
    "        actual = list_of_numbers[idx]\n",
    "        siguiente = list_of_numbers[idx+1]\n",
    "        is_sequence = siguiente == actual +1\n",
    "        idx+=1\n",
    "    return is_sequence\n",
    "is_sequence([1,2,3,4,6])"
   ]
  },
  {
   "cell_type": "code",
   "execution_count": 16,
   "metadata": {},
   "outputs": [
    {
     "data": {
      "text/plain": [
       "[['1', '1', '1', '1', '1', '1', '1', '1'],\n",
       " ['0', '0', '0', '0', '0', '0', '0', '0'],\n",
       " ['1', '1', '1', '1', '1', '1', '1', '1'],\n",
       " ['0', '0', '0', '0', '0', '0', '0', '0'],\n",
       " ['1', '1', '1', '1', '1', '1', '1', '1'],\n",
       " ['0', '0', '0', '0', '0', '0', '0', '0'],\n",
       " ['1', '1', '1', '1', '1', '1', '1', '1'],\n",
       " ['0', '0', '0', '0', '0', '0', '0', '0']]"
      ]
     },
     "execution_count": 16,
     "metadata": {},
     "output_type": "execute_result"
    }
   ],
   "source": [
    "# todas las filas pares llevan 1 y las impares 0 \n",
    "def odd_rows(size):\n",
    "    matrix = []\n",
    "    for i in range(size):          \n",
    "        if i % 2 == 0:\n",
    "            row = [\"1\"]*size   \n",
    "        else:\n",
    "            row = [\"0\"] *size   \n",
    "        matrix.append(row)\n",
    "    return matrix\n",
    "odd_rows(8)"
   ]
  },
  {
   "attachments": {},
   "cell_type": "markdown",
   "metadata": {},
   "source": [
    "| A | B | C | D | E |\n",
    "| -- | -- | -- | -- | -- |\n",
    "| 1 | 2 | 3 | 4 | 5 |\n",
    "| 16 | 17 | 18 | 19 | 6 |\n",
    "| 15 | 24 | 25 | 20 | 7 |\n",
    "| 14 | 23 | 22 | 21 | 8 |\n",
    "| 13 | 12 | 11 | 10 | 9 |"
   ]
  },
  {
   "cell_type": "code",
   "execution_count": 63,
   "metadata": {},
   "outputs": [
    {
     "name": "stdout",
     "output_type": "stream",
     "text": [
      "0 0 1 5\n",
      "[1, 2, 3, 4, 5]\n",
      "[16, 0, 0, 0, 6]\n",
      "[15, 0, 0, 0, 7]\n",
      "[14, 0, 0, 0, 8]\n",
      "[13, 12, 11, 10, 9]\n",
      "=====\n",
      "1 1 17 4\n",
      "[1, 2, 3, 4, 5]\n",
      "[28, 17, 18, 19, 20]\n",
      "[27, 0, 0, 21, 7]\n",
      "[26, 25, 24, 22, 8]\n",
      "[13, 12, 11, 23, 9]\n",
      "=====\n"
     ]
    },
    {
     "data": {
      "text/plain": [
       "[[1, 2, 3, 4, 5],\n",
       " [28, 17, 18, 19, 20],\n",
       " [27, 0, 0, 21, 7],\n",
       " [26, 25, 24, 22, 8],\n",
       " [13, 12, 11, 23, 9]]"
      ]
     },
     "execution_count": 63,
     "metadata": {},
     "output_type": "execute_result"
    }
   ],
   "source": [
    "\n",
    "def fill_edge(matrix, delta_columna, delta_fila, idx_columna, idx_fila, counter, number):\n",
    "    for i in range(number):   \n",
    "        # print(idx_fila,idx_columna) \n",
    "        matrix[idx_fila][idx_columna] = counter\n",
    "        idx_fila +=delta_fila\n",
    "        idx_columna += delta_columna\n",
    "        counter +=1\n",
    "def spiral_edge(matrix, idx_columna, idx_fila,counter, size):\n",
    "    print(idx_columna, idx_fila, counter,size)\n",
    "    fill_edge(matrix, 1, 0 , idx_columna, idx_fila, counter,size)\n",
    "    fill_edge(matrix, 0, 1 , size-1, idx_fila+1, counter+size,size-1)\n",
    "    fill_edge(matrix, -1, 0 , size-2, size-1, counter + 2*size -1,size-1)\n",
    "    fill_edge(matrix, 0, -1 , 0, size-2, counter+ 3*size-2,size-2)\n",
    "    return matrix \n",
    "\n",
    "def spiral_matrix(size):\n",
    "    matrix = [ [ 0 for i in range(size) ] for j in range(size) ]\n",
    "    idx_columna, idx_fila,counter, size_to_fill = 0 , 0 , 1 , size\n",
    "    for i in range(0,2):      \n",
    "        spiral_edge(matrix,idx_columna,idx_fila,counter,size_to_fill)\n",
    "        counter= matrix[idx_fila+1][idx_columna] +1\n",
    "        idx_columna+=1\n",
    "        idx_fila+=1\n",
    "        size_to_fill-=1\n",
    "        for i in matrix:\n",
    "            print(i)\n",
    "        print(\"=====\")\n",
    "      \n",
    "    return matrix\n",
    "spiral_matrix(5)"
   ]
  },
  {
   "cell_type": "code",
   "execution_count": null,
   "metadata": {},
   "outputs": [],
   "source": []
  }
 ],
 "metadata": {
  "kernelspec": {
   "display_name": "Python 3",
   "language": "python",
   "name": "python3"
  },
  "language_info": {
   "codemirror_mode": {
    "name": "ipython",
    "version": 3
   },
   "file_extension": ".py",
   "mimetype": "text/x-python",
   "name": "python",
   "nbconvert_exporter": "python",
   "pygments_lexer": "ipython3",
   "version": "3.10.4"
  },
  "orig_nbformat": 4,
  "vscode": {
   "interpreter": {
    "hash": "e913b7897ac30ba1cf0615ffc95e0dcac655edcf15ece0252fa093eec079069f"
   }
  }
 },
 "nbformat": 4,
 "nbformat_minor": 2
}
