{
 "cells": [
  {
   "cell_type": "code",
   "execution_count": 11,
   "id": "734fd8eb",
   "metadata": {
    "scrolled": true
   },
   "outputs": [
    {
     "name": "stdout",
     "output_type": "stream",
     "text": [
      "Hola mundo\n"
     ]
    }
   ],
   "source": [
    "print(\"Hola mundo\")"
   ]
  },
  {
   "cell_type": "code",
   "execution_count": 2,
   "id": "54466366",
   "metadata": {},
   "outputs": [
    {
     "name": "stdout",
     "output_type": "stream",
     "text": [
      "10000\n"
     ]
    }
   ],
   "source": [
    "n = 10000\n",
    "a= 0\n",
    "for i in range(0,a):\n",
    "    n = n + 1\n",
    "    print(\"Something\")\n",
    "print(n)"
   ]
  },
  {
   "cell_type": "code",
   "execution_count": 13,
   "id": "a3d81868",
   "metadata": {},
   "outputs": [
    {
     "name": "stdout",
     "output_type": "stream",
     "text": [
      "After Hello world\n"
     ]
    }
   ],
   "source": [
    "word = \"Hello\"\n",
    "def main(word):\n",
    "    word = word + \" world\"\n",
    "\n",
    "    return word\n",
    "\n",
    "word = main(word)\n",
    "print(\"After\", word)"
   ]
  },
  {
   "cell_type": "code",
   "execution_count": 14,
   "id": "1293b8e6",
   "metadata": {},
   "outputs": [
    {
     "name": "stdout",
     "output_type": "stream",
     "text": [
      "Inside ['Hello', 'world', ':D']\n",
      "After ['Hello', 'world']\n"
     ]
    }
   ],
   "source": [
    "words= [\"Hello\", \"world\"]\n",
    "def main(words):\n",
    "    new_list =  words.copy()\n",
    "    new_list.append(\":D\")\n",
    "    print(\"Inside\",new_list)\n",
    "\n",
    "main(words)\n",
    "print(\"After\", words)"
   ]
  },
  {
   "cell_type": "code",
   "execution_count": 15,
   "id": "770a0845",
   "metadata": {},
   "outputs": [
    {
     "name": "stdout",
     "output_type": "stream",
     "text": [
      "Inside ['Hello', 'world', ':D']\n",
      "After ['Hello', 'world', ':D']\n"
     ]
    }
   ],
   "source": [
    "words= [\"Hello\", \"world\"]\n",
    "def main(words):\n",
    "    new_list =  words\n",
    "    new_list.append(\":D\")\n",
    "    print(\"Inside\",new_list)\n",
    "\n",
    "main(words)\n",
    "print(\"After\", words)"
   ]
  },
  {
   "cell_type": "code",
   "execution_count": 16,
   "id": "b072aeb9",
   "metadata": {},
   "outputs": [
    {
     "name": "stdout",
     "output_type": "stream",
     "text": [
      "Hello\n",
      "world\n",
      "Hello\n",
      "world\n"
     ]
    }
   ],
   "source": [
    "words= [\"Hello\", \"world\"]\n",
    "for word in words:\n",
    "    print(word)\n",
    "    \n",
    "for i in range(0,len(words)):\n",
    "    print(words[i])"
   ]
  },
  {
   "cell_type": "markdown",
   "id": "f30a5266",
   "metadata": {},
   "source": [
    "# Execise 1 \n",
    "\n",
    "Input: list of strings \n",
    "Output: List of each strings sizes\n",
    "\n",
    "Example:\n",
    "\n",
    "Input\n",
    "[\"Hello\", \"world\",\":D\"]\n",
    "Ouput \n",
    "[5, 5 , 2]\n"
   ]
  },
  {
   "cell_type": "code",
   "execution_count": 17,
   "id": "262f0e25",
   "metadata": {},
   "outputs": [
    {
     "name": "stdout",
     "output_type": "stream",
     "text": [
      "[4, 3, 8]\n",
      "[4, 3, 8]\n"
     ]
    }
   ],
   "source": [
    "input_list = [\"casa\",\"sol\",\"chatarra\"]\n",
    "ans = []\n",
    "ans_2 = []\n",
    "for word in input_list:\n",
    "    ans.append(len(word))\n",
    "print(ans)\n",
    "\n",
    "for index in range(0, len(input_list)):\n",
    "    ans_2.append(len(input_list[index]))\n",
    "print(ans_2)\n",
    "    "
   ]
  },
  {
   "cell_type": "markdown",
   "id": "7f5fe860",
   "metadata": {},
   "source": [
    "# Execise 2 \n",
    "\n",
    "Input: list of strings \n",
    "Print: Index of string with more than n characters"
   ]
  },
  {
   "cell_type": "code",
   "execution_count": 18,
   "id": "4f6bacdd",
   "metadata": {},
   "outputs": [
    {
     "name": "stdout",
     "output_type": "stream",
     "text": [
      "0\n",
      "2\n"
     ]
    }
   ],
   "source": [
    "input_list = [\"casa\",\"sol\",\"chatarra\"]\n",
    "n = 3\n",
    "for index in range(0, len(input_list)):\n",
    "    if len(input_list[index])>n:\n",
    "        print(index)"
   ]
  },
  {
   "cell_type": "code",
   "execution_count": 8,
   "id": "02447b2e",
   "metadata": {},
   "outputs": [
    {
     "name": "stdout",
     "output_type": "stream",
     "text": [
      "[[], []]\n"
     ]
    }
   ],
   "source": [
    "l_of_l = []\n",
    "l = []\n",
    "\n",
    "l_of_l.append(l)\n",
    "l_of_l.append(l)\n",
    "\n",
    "print(l_of_l)"
   ]
  },
  {
   "cell_type": "code",
   "execution_count": null,
   "id": "366e32f5",
   "metadata": {},
   "outputs": [],
   "source": []
  }
 ],
 "metadata": {
  "kernelspec": {
   "display_name": "Python 3",
   "language": "python",
   "name": "python3"
  },
  "language_info": {
   "codemirror_mode": {
    "name": "ipython",
    "version": 3
   },
   "file_extension": ".py",
   "mimetype": "text/x-python",
   "name": "python",
   "nbconvert_exporter": "python",
   "pygments_lexer": "ipython3",
   "version": "3.12.7"
  }
 },
 "nbformat": 4,
 "nbformat_minor": 5
}
